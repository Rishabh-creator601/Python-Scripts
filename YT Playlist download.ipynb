{
 "cells": [
  {
   "cell_type": "code",
   "execution_count": 10,
   "id": "43a7e4d9-b94b-4226-b2c2-208ed6286485",
   "metadata": {},
   "outputs": [
    {
     "name": "stdout",
     "output_type": "stream",
     "text": [
      "Number of videos in playlist: 11\n",
      "https://www.youtube.com/watch?v=p1hGz0w_OCo\n",
      "https://www.youtube.com/watch?v=rTEtEy5o3X0\n",
      "https://www.youtube.com/watch?v=ltXSoduiVwY\n",
      "https://www.youtube.com/watch?v=YYEJ_GUguHw\n",
      "https://www.youtube.com/watch?v=NxEHSAfFlK8\n",
      "https://www.youtube.com/watch?v=kFwe2ZZU7yw\n",
      "https://www.youtube.com/watch?v=TLInuAorxqE\n",
      "https://www.youtube.com/watch?v=Rjr62b_h7S4\n",
      "https://www.youtube.com/watch?v=aOEoxyA4uXU\n",
      "https://www.youtube.com/watch?v=T9UcK-TxQGw\n",
      "https://www.youtube.com/watch?v=6UF5Ysk_2gk\n"
     ]
    }
   ],
   "source": [
    "from pytubefix import Playlist,YouTube\n",
    "playlist = Playlist('PlayList Link')\n",
    "print('Number of videos in playlist: %s' % len(playlist.video_urls))\n",
    "\n",
    "# Loop through all videos in the playlist and download them\n",
    "for url in playlist.video_urls:\n",
    "    yt = YouTube(url)\n",
    "    video = yt.streams.filter(progressive=True, file_extension='mp4').order_by('resolution').desc().first()\n",
    "    video.download(\"PATH\")\n",
    "    print(url )"
   ]
  },
  {
   "cell_type": "code",
   "execution_count": null,
   "id": "79f457b8-dd26-4753-85de-7141ef6343da",
   "metadata": {},
   "outputs": [],
   "source": []
  }
 ],
 "metadata": {
  "kernelspec": {
   "display_name": "Python 3 (ipykernel)",
   "language": "python",
   "name": "python3"
  },
  "language_info": {
   "codemirror_mode": {
    "name": "ipython",
    "version": 3
   },
   "file_extension": ".py",
   "mimetype": "text/x-python",
   "name": "python",
   "nbconvert_exporter": "python",
   "pygments_lexer": "ipython3",
   "version": "3.10.0"
  }
 },
 "nbformat": 4,
 "nbformat_minor": 5
}
